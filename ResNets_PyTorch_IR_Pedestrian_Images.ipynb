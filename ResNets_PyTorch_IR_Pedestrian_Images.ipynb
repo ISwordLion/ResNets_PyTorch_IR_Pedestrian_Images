{
 "cells": [
  {
   "cell_type": "markdown",
   "metadata": {},
   "source": [
    "# ResNets_PyTorch_IR_Pedestrian_Images"
   ]
  },
  {
   "cell_type": "code",
   "execution_count": 3,
   "metadata": {},
   "outputs": [],
   "source": [
    "import torch\n",
    "import torch.nn as nn\n",
    "import torch.nn.functional as F"
   ]
  },
  {
   "cell_type": "code",
   "execution_count": 55,
   "metadata": {},
   "outputs": [],
   "source": [
    "from PIL import Image\n",
    "import matplotlib.pyplot as plt\n",
    "import numpy as np\n",
    "import os\n",
    "import time"
   ]
  },
  {
   "cell_type": "code",
   "execution_count": 5,
   "metadata": {},
   "outputs": [
    {
     "name": "stdout",
     "output_type": "stream",
     "text": [
      "cpu\n"
     ]
    }
   ],
   "source": [
    "device = torch.device(\"cuda:0\" if torch.cuda.is_available() else \"cpu\")\n",
    "print(device)"
   ]
  },
  {
   "cell_type": "code",
   "execution_count": 22,
   "metadata": {},
   "outputs": [],
   "source": [
    "path = 'Train/neg'\n",
    "num_img = 43390"
   ]
  },
  {
   "cell_type": "code",
   "execution_count": 25,
   "metadata": {},
   "outputs": [],
   "source": [
    "def read_images(path, num_img):\n",
    "    array = np.zeros([num_img, 64*32])\n",
    "    i = 0\n",
    "    for img in os.listdir(path):\n",
    "        img_path = path + \"/\" + img\n",
    "        img = Image.open(img_path, mode='r')\n",
    "        data = np.asarray(img, dtype='uint8')\n",
    "        data = data.flatten()\n",
    "        array[i, :] = data\n",
    "        i += 1\n",
    "        return array"
   ]
  },
  {
   "cell_type": "markdown",
   "metadata": {},
   "source": [
    "### read train negs"
   ]
  },
  {
   "cell_type": "code",
   "execution_count": 26,
   "metadata": {},
   "outputs": [],
   "source": [
    "train_neg_array = read_images(path, num_img)"
   ]
  },
  {
   "cell_type": "code",
   "execution_count": 29,
   "metadata": {},
   "outputs": [],
   "source": [
    "x_train_neg_tensor = torch.from_numpy(train_neg_array)"
   ]
  },
  {
   "cell_type": "code",
   "execution_count": 37,
   "metadata": {},
   "outputs": [
    {
     "data": {
      "text/plain": [
       "torch.Size([43390, 2048])"
      ]
     },
     "execution_count": 37,
     "metadata": {},
     "output_type": "execute_result"
    }
   ],
   "source": [
    "x_train_neg_tensor.size()"
   ]
  },
  {
   "cell_type": "code",
   "execution_count": 32,
   "metadata": {},
   "outputs": [],
   "source": [
    "y_train_neg_tensor = torch.zeros(x_train_neg_tensor.size()[0], dtype= torch.long)"
   ]
  },
  {
   "cell_type": "code",
   "execution_count": 33,
   "metadata": {},
   "outputs": [
    {
     "data": {
      "text/plain": [
       "torch.Size([43390])"
      ]
     },
     "execution_count": 33,
     "metadata": {},
     "output_type": "execute_result"
    }
   ],
   "source": [
    "y_train_neg_tensor.size()"
   ]
  },
  {
   "cell_type": "markdown",
   "metadata": {},
   "source": [
    "### read train positives"
   ]
  },
  {
   "cell_type": "code",
   "execution_count": 41,
   "metadata": {},
   "outputs": [],
   "source": [
    "path2 = 'Train/pos'\n",
    "num_imgs = 10208"
   ]
  },
  {
   "cell_type": "code",
   "execution_count": 44,
   "metadata": {},
   "outputs": [],
   "source": [
    "train_pos_array = read_images(path2, num_imgs)\n",
    "x_train_pos_tensor = torch.from_numpy(train_pos_array)\n",
    "y_train_pos_tensor = torch.ones(x_train_pos_tensor.size()[0], dtype= torch.long)"
   ]
  },
  {
   "cell_type": "code",
   "execution_count": 45,
   "metadata": {},
   "outputs": [
    {
     "data": {
      "text/plain": [
       "torch.Size([10208, 2048])"
      ]
     },
     "execution_count": 45,
     "metadata": {},
     "output_type": "execute_result"
    }
   ],
   "source": [
    "x_train_pos_tensor.size()"
   ]
  },
  {
   "cell_type": "code",
   "execution_count": 46,
   "metadata": {},
   "outputs": [],
   "source": [
    "x_train = torch.cat((x_train_neg_tensor, x_train_pos_tensor), 0)\n",
    "y_train = torch.cat((y_train_neg_tensor, y_train_pos_tensor), 0)"
   ]
  },
  {
   "cell_type": "code",
   "execution_count": 51,
   "metadata": {},
   "outputs": [
    {
     "name": "stdout",
     "output_type": "stream",
     "text": [
      "torch.Size([53598, 2048])\n",
      "torch.Size([53598])\n"
     ]
    }
   ],
   "source": [
    "print(x_train.shape)\n",
    "print(y_train.shape)"
   ]
  },
  {
   "cell_type": "markdown",
   "metadata": {},
   "source": [
    "### read test negs"
   ]
  },
  {
   "cell_type": "code",
   "execution_count": 69,
   "metadata": {},
   "outputs": [],
   "source": [
    "path3 = 'Test/neg'\n",
    "num_images = 22050"
   ]
  },
  {
   "cell_type": "code",
   "execution_count": 70,
   "metadata": {},
   "outputs": [],
   "source": [
    "test_neg_array = read_images(path3, num_images)\n",
    "\n",
    "x_test_neg_tensor = torch.from_numpy(test_neg_array)\n",
    "\n",
    "x_test_neg_tensor.size()\n",
    "\n",
    "y_test_neg_tensor = torch.zeros(x_test_neg_tensor.size()[0], dtype= torch.long)"
   ]
  },
  {
   "cell_type": "markdown",
   "metadata": {},
   "source": [
    "### read test positives"
   ]
  },
  {
   "cell_type": "code",
   "execution_count": 71,
   "metadata": {},
   "outputs": [],
   "source": [
    "path4 = 'Test/pos'\n",
    "num_imgs = 5944"
   ]
  },
  {
   "cell_type": "code",
   "execution_count": 72,
   "metadata": {},
   "outputs": [
    {
     "name": "stdout",
     "output_type": "stream",
     "text": [
      "torch.Size([27994, 2048])\n",
      "torch.Size([27994])\n"
     ]
    }
   ],
   "source": [
    "test_pos_array = read_images(path4, num_imgs)\n",
    "x_test_pos_tensor = torch.from_numpy(test_pos_array)\n",
    "y_test_pos_tensor = torch.ones(x_test_pos_tensor.size()[0], dtype= torch.long)\n",
    "\n",
    "x_test_pos_tensor.size()\n",
    "\n",
    "x_test = torch.cat((x_test_neg_tensor, x_test_pos_tensor), 0)\n",
    "y_test = torch.cat((y_test_neg_tensor, y_test_pos_tensor), 0)\n",
    "\n",
    "print(x_test.shape)\n",
    "print(y_test.shape)"
   ]
  },
  {
   "cell_type": "code",
   "execution_count": null,
   "metadata": {},
   "outputs": [],
   "source": []
  },
  {
   "cell_type": "code",
   "execution_count": null,
   "metadata": {},
   "outputs": [],
   "source": []
  }
 ],
 "metadata": {
  "kernelspec": {
   "display_name": "Python 3",
   "language": "python",
   "name": "python3"
  },
  "language_info": {
   "codemirror_mode": {
    "name": "ipython",
    "version": 3
   },
   "file_extension": ".py",
   "mimetype": "text/x-python",
   "name": "python",
   "nbconvert_exporter": "python",
   "pygments_lexer": "ipython3",
   "version": "3.7.4"
  }
 },
 "nbformat": 4,
 "nbformat_minor": 2
}
